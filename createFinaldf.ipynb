{
 "cells": [
  {
   "cell_type": "code",
   "execution_count": 1,
   "metadata": {},
   "outputs": [],
   "source": [
    "import pandas as pd"
   ]
  },
  {
   "cell_type": "code",
   "execution_count": 108,
   "metadata": {},
   "outputs": [],
   "source": [
    "inddf = pd.read_excel(\"./Data/IncomeData.xls\", sheet_name = \"IndByArea\")\n",
    "occdf = pd.read_excel(\"./Data/IncomeData.xls\", sheet_name = \"OccByArea\")\n",
    "incomedf = pd.read_excel(\"./Data/IncomeData.xls\", sheet_name = \"MonthlyIncomeByArea\")\n",
    "transportdf = pd.read_excel(\"./Data/IncomeData.xls\", sheet_name = \"TransportByArea\")\n",
    "traveltimedf = pd.read_excel(\"./Data/IncomeData.xls\", sheet_name = \"AvgTravelTimeByArea\")"
   ]
  },
  {
   "cell_type": "code",
   "execution_count": 153,
   "metadata": {},
   "outputs": [],
   "source": [
    "def createCentralArea(x):\n",
    "    x.area = x.area.str.replace(\"Novena\", \"Central Area\").str.replace(\"Outram\", \"Central Area\")\n",
    "    return(x.groupby(\"area\").sum())\n",
    "\n",
    "inddf = createCentralArea(inddf)\n",
    "occdf = createCentralArea(occdf)\n",
    "incomedf = createCentralArea(incomedf)\n",
    "transportdf = createCentralArea(transportdf)\n",
    "traveltimedf = createCentralArea(traveltimedf)"
   ]
  },
  {
   "cell_type": "code",
   "execution_count": 62,
   "metadata": {},
   "outputs": [],
   "source": [
    "df2023 = pd.read_csv(\"./data/hdb_resale_price_2023.csv\").iloc[:, 1:]\n",
    "df2023[\"address\"] = (df2023.street_name + \" \" + df2023.block)"
   ]
  },
  {
   "cell_type": "code",
   "execution_count": 63,
   "metadata": {},
   "outputs": [],
   "source": [
    "malldf = pd.read_csv(\"./data/closestMalls.csv\").iloc[0:2500, 1:]\n",
    "beachdf = pd.read_csv(\"./data/closestBeaches.csv\").iloc[0:2500, 1:]\n",
    "mrtdf = pd.read_csv(\"./data/ClosestMRTStations.updated.csv\").iloc[0:2500, 1:]\n",
    "schdf = pd.read_csv(\"./data/closestPrimarySchs.csv\").iloc[0:2500, 1:]"
   ]
  },
  {
   "cell_type": "code",
   "execution_count": 73,
   "metadata": {},
   "outputs": [],
   "source": [
    "df2023 = pd.merge(pd.merge(pd.merge(pd.merge(df2023, malldf, on = \"address\"), beachdf.drop([\"lat\", \"long\"], axis = 1), on = \"address\"), mrtdf.drop([\"lat\", \"long\"], axis = 1), on = \"address\"), schdf.drop([\"lat\", \"long\"], axis = 1), on = \"address\")"
   ]
  },
  {
   "cell_type": "code",
   "execution_count": 128,
   "metadata": {},
   "outputs": [],
   "source": [
    "df2023 = df2023.rename({\"town\" : \"area\"}, axis = 1)\n",
    "df2023.area = df2023.area.str.title()\n",
    "df2023.area = df2023.area.str.replace(\"Kallang/Whampoa\", \"Kallang\")"
   ]
  },
  {
   "cell_type": "code",
   "execution_count": 158,
   "metadata": {},
   "outputs": [],
   "source": [
    "df2023 = pd.merge(pd.merge(pd.merge(pd.merge(pd.merge(df2023, inddf, on = \"area\"), occdf, on = \"area\"), incomedf, on = \"area\"), transportdf, on = \"area\"), traveltimedf, on = \"area\")"
   ]
  },
  {
   "cell_type": "code",
   "execution_count": 159,
   "metadata": {},
   "outputs": [],
   "source": [
    "df2023.to_csv(\"./data/final_hdb_resale_2023.csv\")"
   ]
  }
 ],
 "metadata": {
  "kernelspec": {
   "display_name": "py311",
   "language": "python",
   "name": "python3"
  },
  "language_info": {
   "codemirror_mode": {
    "name": "ipython",
    "version": 3
   },
   "file_extension": ".py",
   "mimetype": "text/x-python",
   "name": "python",
   "nbconvert_exporter": "python",
   "pygments_lexer": "ipython3",
   "version": "3.11.5"
  }
 },
 "nbformat": 4,
 "nbformat_minor": 2
}
