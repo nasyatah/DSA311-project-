{
 "cells": [
  {
   "cell_type": "code",
   "execution_count": 1,
   "metadata": {},
   "outputs": [],
   "source": [
    "import pandas as pd\n",
    "from oneMapAPIFunctions import findClosestEntity\n",
    "import tqdm"
   ]
  },
  {
   "cell_type": "code",
   "execution_count": 2,
   "metadata": {},
   "outputs": [],
   "source": [
    "sch_df = pd.read_csv(\"./data/2021PrimarySchools.csv\")\n",
    "trans_df = pd.read_csv(\"./data/MrtLrt.csv\")\n",
    "beach_df = pd.read_csv(\"./data/beaches.csv\").iloc[:,1:]\n",
    "mall_df = pd.read_csv(\"./data/malls.csv\").iloc[:,1:]\n",
    "hdbCoordinates = pd.read_csv(\"./data/hdbCoord.csv\").iloc[:,1:]\n",
    "\n",
    "beach_df.columns = [\"name\", \"lat\", \"long\"]\n",
    "trans_df.columns = [\"name\", \"type\", \"lat\", \"long\"]\n",
    "mall_df.columns = [\"name\", \"lat\", \"long\"]\n",
    "\n",
    "tqdm.tqdm.pandas()"
   ]
  },
  {
   "cell_type": "code",
   "execution_count": 3,
   "metadata": {},
   "outputs": [
    {
     "name": "stderr",
     "output_type": "stream",
     "text": [
      "  0%|          | 0/7954 [00:00<?, ?it/s]"
     ]
    },
    {
     "name": "stderr",
     "output_type": "stream",
     "text": [
      "100%|██████████| 7954/7954 [16:08:16<00:00,  7.30s/it]     \n"
     ]
    }
   ],
   "source": [
    "closestBeaches = hdbCoordinates[[\"lat\", \"long\"]].progress_apply(lambda x: findClosestEntity(x.values, beach_df), axis = 1)\n",
    "closestBeaches = pd.DataFrame(list(closestBeaches))\n",
    "closestBeaches.columns = [\"closestBeach\", \"distToBeach\", \"timeToBeach\", \"beachesIn10km\"]\n",
    "hdbCoordinates.join(closestBeaches).to_csv(\"./data/closestBeaches.csv\")"
   ]
  },
  {
   "cell_type": "code",
   "execution_count": null,
   "metadata": {},
   "outputs": [],
   "source": [
    "missingBeaches = hdbCoordinates[(closestBeaches.isna().sum(axis = 1) != 0)][[\"lat\", \"long\"]]\n",
    "closestMissingBeaches = missingBeaches.progress_apply(lambda x: findClosestEntity(x.values, beach_df), axis = 1)\n",
    "closestMissingBeaches = pd.DataFrame(list(closestMissingBeaches))\n",
    "closestMissingBeaches.columns = [\"closestBeach\", \"distToBeach\", \"timeToBeach\", \"beachesIn10km\"]\n",
    "closestMissingBeaches.index = missingBeaches.index\n",
    "closestBeaches.loc[missingBeaches.index] = closestMissingBeaches\n",
    "hdbCoordinates.join(closestBeaches).to_csv(\"./data/closestBeaches.csv\")"
   ]
  },
  {
   "cell_type": "code",
   "execution_count": null,
   "metadata": {},
   "outputs": [],
   "source": [
    "closestMalls = hdbCoordinates[[\"lat\", \"long\"]].progress_apply(lambda x: findClosestEntity(x.values, mall_df), axis = 1)\n",
    "closestMalls = pd.DataFrame(list(closestMalls))\n",
    "closestMalls.columns = [\"closestMall\", \"distToMall\", \"timeToMall\", \"mallsIn10km\"]\n",
    "hdbCoordinates.join(closestMalls).to_csv(\"./data/closestMalls.csv\")"
   ]
  },
  {
   "cell_type": "code",
   "execution_count": 3,
   "metadata": {},
   "outputs": [
    {
     "name": "stderr",
     "output_type": "stream",
     "text": [
      "  0%|          | 0/7954 [00:00<?, ?it/s]"
     ]
    },
    {
     "name": "stderr",
     "output_type": "stream",
     "text": [
      "100%|██████████| 7954/7954 [3:00:37<00:00,  1.36s/it]   \n"
     ]
    }
   ],
   "source": [
    "closestPrimarySchs = hdbCoordinates[[\"lat\", \"long\"]].progress_apply(lambda x: findClosestEntity(x.values, sch_df), axis = 1)\n",
    "closestPrimarySchs = pd.DataFrame(list(closestPrimarySchs))\n",
    "closestPrimarySchs.columns = [\"closestPrimarySch\", \"distToPrimarySch\", \"timeToPrimarySch\", \"PrimarySchsIn10km\"]\n",
    "hdbCoordinates.join(closestPrimarySchs).to_csv(\"./data/closestPrimarySchs.csv\")"
   ]
  },
  {
   "cell_type": "code",
   "execution_count": null,
   "metadata": {},
   "outputs": [],
   "source": [
    "closestMRTStations = hdbCoordinates[[\"lat\", \"long\"]].progress_apply(lambda x: findClosestEntity(x.values, trans_df, dist_type = \"walk\"), axis = 1)\n",
    "closestMRTStations = pd.DataFrame(list(closestMRTStations))\n",
    "closestMRTStations.columns = [\"closestMRTStation\", \"distToMRTStation\", \"timeToMRTStation\", \"MRTStationsIn10km\"]\n",
    "hdbCoordinates.join(closestMRTStations).to_csv(\"./data/closestMRTStations.csv\")"
   ]
  }
 ],
 "metadata": {
  "kernelspec": {
   "display_name": "py311",
   "language": "python",
   "name": "python3"
  },
  "language_info": {
   "codemirror_mode": {
    "name": "ipython",
    "version": 3
   },
   "file_extension": ".py",
   "mimetype": "text/x-python",
   "name": "python",
   "nbconvert_exporter": "python",
   "pygments_lexer": "ipython3",
   "version": "3.11.5"
  }
 },
 "nbformat": 4,
 "nbformat_minor": 2
}
